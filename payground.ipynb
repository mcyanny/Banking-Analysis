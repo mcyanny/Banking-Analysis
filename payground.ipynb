{
 "cells": [
  {
   "cell_type": "code",
   "execution_count": 48,
   "metadata": {},
   "outputs": [],
   "source": [
    "import requests\n",
    "import json\n",
    "\n",
    "import pandas as pd"
   ]
  },
  {
   "cell_type": "code",
   "execution_count": 61,
   "metadata": {},
   "outputs": [],
   "source": [
    "import requests\n",
    "\n",
    "# Set the base URL for the FDIC Bank Data API\n",
    "base_url = \"https://banks.data.fdic.gov/api\"\n",
    "\n",
    "# Specify the institutions endpoint\n",
    "endpoint = \"/institutions\"\n",
    "url = f\"{base_url}{endpoint}\"\n",
    "\n",
    "# Parameters for your request\n",
    "params = {\n",
    "    \"format\": \"json\",  # Requesting JSON format\n",
    "    \"filters\": 'STNAME: \"Massachusetts\"',\n",
    "    \"fields\": 'NAME,ASSET',\n",
    "    \"limit\": 10,\n",
    "}\n",
    "\n",
    "# Make the GET request\n",
    "response = requests.get(url, params=params)\n",
    "\n",
    "# Check if the request was successful\n",
    "if response.status_code == 200:\n",
    "    institutions_data = response.json()  # Parse the JSON response\n",
    "    \n",
    "else:\n",
    "    print(\"Error:\", response.status_code, response.text)\n"
   ]
  },
  {
   "cell_type": "code",
   "execution_count": 62,
   "metadata": {},
   "outputs": [
    {
     "name": "stdout",
     "output_type": "stream",
     "text": [
      "{'meta': {'total': 510, 'parameters': {'filters': 'STNAME: \"Massachusetts\"', 'fields': 'NAME,ASSET', 'limit': '10'}, 'index': {'name': 'institutions_20241025090007', 'createTimestamp': '2024-10-25T11:19:10Z'}}, 'data': [{'data': {'ASSET': 6755390, 'NAME': 'Fleet Bank, National Association', 'ID': '10424'}, 'score': 0}, {'data': {'ASSET': 1282972, 'NAME': 'Cape Cod Bank and Trust, National Association', 'ID': '10538'}, 'score': 0}, {'data': {'ASSET': 528150, 'NAME': 'Shawmut First Bank and Trust Company', 'ID': '10540'}, 'score': 0}, {'data': {'ASSET': 908812, 'NAME': 'BayBank Valley Trust Company', 'ID': '10541'}, 'score': 0}, {'data': {'NAME': 'Bristol County Trust Company', 'ID': '10543'}, 'score': 0}, {'data': {'ASSET': 318836, 'NAME': 'University Bank, National Association', 'ID': '10544'}, 'score': 0}, {'data': {'ASSET': 1400742, 'NAME': 'Shawmut Arlington Trust Company', 'ID': '11800'}, 'score': 0}, {'data': {'ASSET': 223519, 'NAME': 'Berkshire Bank & Trust Company', 'ID': '11801'}, 'score': 0}, {'data': {'ASSET': 398423, 'NAME': 'Framingham Trust Company', 'ID': '11803'}, 'score': 0}, {'data': {'NAME': 'Shawmut Melrose-Wakefield Bank and Trust Company', 'ID': '12435'}, 'score': 0}], 'totals': {'count': 510}}\n"
     ]
    }
   ],
   "source": [
    "print(institutions_data)\n",
    "\n",
    "# Save the JSON data to a file\n",
    "with open('institutions_data.json', 'w') as json_file:\n",
    "    json.dump(institutions_data, json_file, indent=4)  # Write JSON data to file with pretty formatting\n",
    "    \n",
    "institutions_list = institutions_data['data']  # Access the data part\n",
    "# Create a new DataFrame with selected columns\n",
    "df = pd.DataFrame([{\n",
    "    'NAME': institution['data']['NAME'],\n",
    "    'ID': institution['data']['ID']\n",
    "} for institution in institutions_list])\n"
   ]
  }
 ],
 "metadata": {
  "kernelspec": {
   "display_name": "Python 3",
   "language": "python",
   "name": "python3"
  },
  "language_info": {
   "codemirror_mode": {
    "name": "ipython",
    "version": 3
   },
   "file_extension": ".py",
   "mimetype": "text/x-python",
   "name": "python",
   "nbconvert_exporter": "python",
   "pygments_lexer": "ipython3",
   "version": "3.12.6"
  }
 },
 "nbformat": 4,
 "nbformat_minor": 2
}
