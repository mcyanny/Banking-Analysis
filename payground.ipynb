{
 "cells": [
  {
   "cell_type": "code",
   "execution_count": 1,
   "metadata": {},
   "outputs": [],
   "source": [
    "import request_wrapper\n"
   ]
  },
  {
   "cell_type": "code",
   "execution_count": null,
   "metadata": {},
   "outputs": [
    {
     "name": "stdout",
     "output_type": "stream",
     "text": [
      "                                         NAME     ASSET     ID\n",
      "0                   Northeast Bank of Sanford       NaN     10\n",
      "1                         Bank of Bentonville  712714.0    100\n",
      "2      Progressive Bank, National Association  338215.0  10002\n",
      "3         First Citizens Bank & Trust Company  126549.0  10003\n",
      "4                                   Ergo Bank  232555.0  10004\n",
      "...                                       ...       ...    ...\n",
      "27828                        The Peoples Bank       NaN   9993\n",
      "27829               Jackson County Bank, Inc.   62371.0   9994\n",
      "27830                         Bank of Weirton  178789.0   9995\n",
      "27831                 Jefferson Security Bank  541958.0   9997\n",
      "27832                       Capon Valley Bank  218835.0   9998\n",
      "\n",
      "[27833 rows x 3 columns]\n"
     ]
    }
   ],
   "source": [
    "# Parameters for your request\n",
    "params = {\n",
    "    \"format\": \"json\",  # Requesting JSON format\n",
    "    # \"filters\": 'STNAME: \"Massachusetts\"',\n",
    "    \"fields\": 'NAME,ASSET',\n",
    "    \"limit\": 10000,\n",
    "}\n",
    "\n",
    "req_wrap = request_wrapper.RequestWrapper()\n",
    "\n",
    "ret = req_wrap.request_data(endpoint='/institutions', params=params, format='df')\n",
    "print(ret)"
   ]
  }
 ],
 "metadata": {
  "kernelspec": {
   "display_name": "Python 3",
   "language": "python",
   "name": "python3"
  },
  "language_info": {
   "codemirror_mode": {
    "name": "ipython",
    "version": 3
   },
   "file_extension": ".py",
   "mimetype": "text/x-python",
   "name": "python",
   "nbconvert_exporter": "python",
   "pygments_lexer": "ipython3",
   "version": "3.12.6"
  }
 },
 "nbformat": 4,
 "nbformat_minor": 2
}
